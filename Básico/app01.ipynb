{
 "cells": [
  {
   "cell_type": "markdown",
   "metadata": {},
   "source": [
    "# Armazenamento de Dados em Programas"
   ]
  },
  {
   "cell_type": "code",
   "execution_count": 1,
   "metadata": {},
   "outputs": [
    {
     "name": "stdout",
     "output_type": "stream",
     "text": [
      "2\n"
     ]
    }
   ],
   "source": [
    "# Criando Obejtos\n",
    "qtde = 2  # objeto\n",
    "print (qtde)\n"
   ]
  },
  {
   "cell_type": "code",
   "execution_count": 2,
   "metadata": {},
   "outputs": [
    {
     "name": "stdout",
     "output_type": "stream",
     "text": [
      "73.8\n"
     ]
    }
   ],
   "source": [
    "puni = 36.90 # objeto\n",
    "ptot = qtde * puni # atribuindo uma mutiplicação aos objetos\n",
    "print (ptot) # exibindo o resultado"
   ]
  },
  {
   "cell_type": "code",
   "execution_count": 3,
   "metadata": {},
   "outputs": [
    {
     "name": "stdout",
     "output_type": "stream",
     "text": [
      "Total =  73.8\n"
     ]
    }
   ],
   "source": [
    "puni = 36.90 # objeto\n",
    "ptot = qtde * puni # atribuindo uma mutiplicação aos objetos\n",
    "msg = 'Total = '   # atribuindo mensagem\n",
    "print (msg,ptot) # exibindo o resultado"
   ]
  },
  {
   "cell_type": "markdown",
   "metadata": {},
   "source": [
    "# Classes e Obejetos"
   ]
  },
  {
   "cell_type": "code",
   "execution_count": 4,
   "metadata": {},
   "outputs": [
    {
     "data": {
      "text/plain": [
       "int"
      ]
     },
     "execution_count": 4,
     "metadata": {},
     "output_type": "execute_result"
    }
   ],
   "source": [
    "type(qtde) # verificando o tipo de classe\n"
   ]
  },
  {
   "cell_type": "code",
   "execution_count": 5,
   "metadata": {},
   "outputs": [
    {
     "data": {
      "text/plain": [
       "float"
      ]
     },
     "execution_count": 5,
     "metadata": {},
     "output_type": "execute_result"
    }
   ],
   "source": [
    "type(puni) # verificando o tipo de classe"
   ]
  },
  {
   "cell_type": "code",
   "execution_count": 6,
   "metadata": {},
   "outputs": [
    {
     "data": {
      "text/plain": [
       "float"
      ]
     },
     "execution_count": 6,
     "metadata": {},
     "output_type": "execute_result"
    }
   ],
   "source": [
    "ptot = qtde * puni # atribuindo uma mutiplicação aos objetos\n",
    "type(ptot) # verificando o tipo de classe"
   ]
  },
  {
   "cell_type": "code",
   "execution_count": 7,
   "metadata": {},
   "outputs": [
    {
     "data": {
      "text/plain": [
       "str"
      ]
     },
     "execution_count": 7,
     "metadata": {},
     "output_type": "execute_result"
    }
   ],
   "source": [
    "msg = 'Total = '   # atribuindo mensagem\n",
    "type(msg) # verificando o tipo de classe"
   ]
  },
  {
   "cell_type": "markdown",
   "metadata": {},
   "source": [
    "# Objetos de Classes Simples"
   ]
  },
  {
   "cell_type": "code",
   "execution_count": 8,
   "metadata": {},
   "outputs": [
    {
     "name": "stdout",
     "output_type": "stream",
     "text": [
      "12\n"
     ]
    },
    {
     "data": {
      "text/plain": [
       "int"
      ]
     },
     "execution_count": 8,
     "metadata": {},
     "output_type": "execute_result"
    }
   ],
   "source": [
    "n = 12 # objeto\n",
    "print (n) # exibindo o resultado\n",
    "type(n) # verificando o tipo de classe"
   ]
  },
  {
   "cell_type": "code",
   "execution_count": 9,
   "metadata": {},
   "outputs": [
    {
     "name": "stdout",
     "output_type": "stream",
     "text": [
      "7.38\n"
     ]
    },
    {
     "data": {
      "text/plain": [
       "float"
      ]
     },
     "execution_count": 9,
     "metadata": {},
     "output_type": "execute_result"
    }
   ],
   "source": [
    "f = 7.38 # objeto\n",
    "print (f) # exibindo o resultado\n",
    "type(f) # verificando o tipo de classe"
   ]
  },
  {
   "cell_type": "code",
   "execution_count": 10,
   "metadata": {},
   "outputs": [
    {
     "name": "stdout",
     "output_type": "stream",
     "text": [
      "abc\n"
     ]
    },
    {
     "data": {
      "text/plain": [
       "str"
      ]
     },
     "execution_count": 10,
     "metadata": {},
     "output_type": "execute_result"
    }
   ],
   "source": [
    "c = 'abc' # objeto\n",
    "print (c) # exibindo o resultado\n",
    "type(c) # verificando o tipo de classe"
   ]
  },
  {
   "cell_type": "code",
   "execution_count": 12,
   "metadata": {},
   "outputs": [
    {
     "data": {
      "text/plain": [
       "bool"
      ]
     },
     "execution_count": 12,
     "metadata": {},
     "output_type": "execute_result"
    }
   ],
   "source": [
    "b = True # objeto\n",
    "type(b) # verificando o tipo de classe"
   ]
  },
  {
   "cell_type": "code",
   "execution_count": 13,
   "metadata": {},
   "outputs": [
    {
     "data": {
      "text/plain": [
       "bool"
      ]
     },
     "execution_count": 13,
     "metadata": {},
     "output_type": "execute_result"
    }
   ],
   "source": [
    "a = False # objeto\n",
    "type(a) # verificando o tipo de classe"
   ]
  },
  {
   "cell_type": "code",
   "execution_count": 14,
   "metadata": {},
   "outputs": [
    {
     "data": {
      "text/plain": [
       "NoneType"
      ]
     },
     "execution_count": 14,
     "metadata": {},
     "output_type": "execute_result"
    }
   ],
   "source": [
    "x = None # objeto\n",
    "type(x) # verificando o tipo de classe"
   ]
  },
  {
   "cell_type": "markdown",
   "metadata": {},
   "source": [
    "# Comando de Atribuição"
   ]
  },
  {
   "cell_type": "code",
   "execution_count": 15,
   "metadata": {},
   "outputs": [
    {
     "name": "stdout",
     "output_type": "stream",
     "text": [
      "10\n"
     ]
    }
   ],
   "source": [
    "a  = 10 # objeto\n",
    "print (a) # exibindo o resultado"
   ]
  },
  {
   "cell_type": "code",
   "execution_count": 16,
   "metadata": {},
   "outputs": [
    {
     "name": "stdout",
     "output_type": "stream",
     "text": [
      "43.5\n"
     ]
    }
   ],
   "source": [
    "b = 43.5 # objeto\n",
    "print (b) # exibindo o resultado"
   ]
  },
  {
   "cell_type": "code",
   "execution_count": 17,
   "metadata": {},
   "outputs": [
    {
     "name": "stdout",
     "output_type": "stream",
     "text": [
      "53.5\n"
     ]
    },
    {
     "data": {
      "text/plain": [
       "float"
      ]
     },
     "execution_count": 17,
     "metadata": {},
     "output_type": "execute_result"
    }
   ],
   "source": [
    "c = a + b # atribuindo uma adicao aos objetos\n",
    "print (c) # exibindo o resultado\n",
    "type(c) # verificando o tipo de classe"
   ]
  },
  {
   "cell_type": "markdown",
   "metadata": {},
   "source": [
    "# Função Len"
   ]
  },
  {
   "cell_type": "code",
   "execution_count": 19,
   "metadata": {},
   "outputs": [
    {
     "name": "stdout",
     "output_type": "stream",
     "text": [
      "7\n"
     ]
    },
    {
     "data": {
      "text/plain": [
       "int"
      ]
     },
     "execution_count": 19,
     "metadata": {},
     "output_type": "execute_result"
    }
   ],
   "source": [
    "d = len (\"Exemplo\") # contando os conjuntos de caracteres\n",
    "print (d) # exibindo o resultado\n",
    "type(d) # verificando o tipo de classe"
   ]
  },
  {
   "cell_type": "markdown",
   "metadata": {},
   "source": [
    "# Id dos Objetos | Parte 1"
   ]
  },
  {
   "cell_type": "code",
   "execution_count": 21,
   "metadata": {},
   "outputs": [
    {
     "data": {
      "text/plain": [
       "140715694029528"
      ]
     },
     "execution_count": 21,
     "metadata": {},
     "output_type": "execute_result"
    }
   ],
   "source": [
    "obj1 = 10\n",
    "id(obj1) # exibindo o identificador do objeto"
   ]
  },
  {
   "cell_type": "code",
   "execution_count": 22,
   "metadata": {},
   "outputs": [
    {
     "data": {
      "text/plain": [
       "140715694029528"
      ]
     },
     "execution_count": 22,
     "metadata": {},
     "output_type": "execute_result"
    }
   ],
   "source": [
    "obj2 = 10\n",
    "id(obj2) # exibindo o identificador do objeto"
   ]
  },
  {
   "cell_type": "markdown",
   "metadata": {},
   "source": [
    "## Os dois números são exatamente iguais, isso é gestao de memoria, o python identificou que o programa precisa de dois objetos inteiros com contéudo (10)\n",
    "## Se criar dois objetos com o mesmo VALOR e a mesma CLASSE o (id) sera o mesmo."
   ]
  },
  {
   "cell_type": "markdown",
   "metadata": {},
   "source": [
    "# Id dos Objetos | Parte 2"
   ]
  },
  {
   "cell_type": "code",
   "execution_count": 23,
   "metadata": {},
   "outputs": [
    {
     "data": {
      "text/plain": [
       "140715694030808"
      ]
     },
     "execution_count": 23,
     "metadata": {},
     "output_type": "execute_result"
    }
   ],
   "source": [
    "X = 50\n",
    "Y = 12 + 38\n",
    "Z = 100 - 50\n",
    "id(X) # exibindo o identificador do objeto      \n",
    "id(Y) # exibindo o identificador do objeto\n",
    "id(Z) # exibindo o identificador do objeto  "
   ]
  },
  {
   "cell_type": "code",
   "execution_count": 24,
   "metadata": {},
   "outputs": [
    {
     "name": "stdout",
     "output_type": "stream",
     "text": [
      "50 50 50\n"
     ]
    }
   ],
   "source": [
    "print (X, Y, Z) # exibindo o resultado"
   ]
  },
  {
   "cell_type": "code",
   "execution_count": 26,
   "metadata": {},
   "outputs": [
    {
     "name": "stdout",
     "output_type": "stream",
     "text": [
      "90\n"
     ]
    },
    {
     "data": {
      "text/plain": [
       "140715694032088"
      ]
     },
     "execution_count": 26,
     "metadata": {},
     "output_type": "execute_result"
    }
   ],
   "source": [
    "z = 90\n",
    "print (z) # exibindo o resultado\n",
    "id(z) # exibindo o identificador do objeto\n",
    "\n",
    "\n",
    "'''Quando atribuimos o valor de 90 a variável z, o identificador do objeto muda.'''"
   ]
  },
  {
   "cell_type": "markdown",
   "metadata": {},
   "source": [
    "# Modelo de Dados "
   ]
  },
  {
   "cell_type": "code",
   "execution_count": 27,
   "metadata": {},
   "outputs": [
    {
     "data": {
      "text/plain": [
       "140715694029464"
      ]
     },
     "execution_count": 27,
     "metadata": {},
     "output_type": "execute_result"
    }
   ],
   "source": [
    "obj1 = 8\n",
    "id(obj1) # exibindo o identificador do objeto"
   ]
  },
  {
   "cell_type": "code",
   "execution_count": 28,
   "metadata": {},
   "outputs": [
    {
     "data": {
      "text/plain": [
       "140715694029592"
      ]
     },
     "execution_count": 28,
     "metadata": {},
     "output_type": "execute_result"
    }
   ],
   "source": [
    "obj1 = 12\n",
    "id(obj1) # exibindo o identificador do objeto"
   ]
  },
  {
   "cell_type": "code",
   "execution_count": 29,
   "metadata": {},
   "outputs": [
    {
     "name": "stdout",
     "output_type": "stream",
     "text": [
      "[44, 17, 26, 35, 20]\n"
     ]
    }
   ],
   "source": [
    "# Lista\n",
    "\n",
    "l = [44,17,26,35,20] # crinando uma lista\n",
    "print (l) # exibindo o resultado\n"
   ]
  },
  {
   "cell_type": "code",
   "execution_count": 30,
   "metadata": {},
   "outputs": [
    {
     "data": {
      "text/plain": [
       "5"
      ]
     },
     "execution_count": 30,
     "metadata": {},
     "output_type": "execute_result"
    }
   ],
   "source": [
    "len (l) # contando os conjuntos de caracteres"
   ]
  },
  {
   "cell_type": "code",
   "execution_count": 31,
   "metadata": {},
   "outputs": [
    {
     "data": {
      "text/plain": [
       "2216886272064"
      ]
     },
     "execution_count": 31,
     "metadata": {},
     "output_type": "execute_result"
    }
   ],
   "source": [
    "id(l) # exibindo o identificador do objeto"
   ]
  },
  {
   "cell_type": "code",
   "execution_count": 32,
   "metadata": {},
   "outputs": [
    {
     "name": "stdout",
     "output_type": "stream",
     "text": [
      "44\n"
     ]
    }
   ],
   "source": [
    "print (l[0])\n",
    "\n",
    "'''No Pythom a lista começa pelo indice 0, ou seja, o primeiro elemento da lista'''"
   ]
  },
  {
   "cell_type": "code",
   "execution_count": 34,
   "metadata": {},
   "outputs": [
    {
     "name": "stdout",
     "output_type": "stream",
     "text": [
      "44\n",
      "17\n",
      "26\n",
      "35\n",
      "20\n"
     ]
    }
   ],
   "source": [
    "print (l[0]) # primeiro elemento\n",
    "print (l[1]) # segundo elemento\n",
    "print (l[2]) # terceiro elemento\n",
    "print (l[3]) # quarto elemento\n",
    "print (l[4]) # quinto elemento"
   ]
  },
  {
   "cell_type": "code",
   "execution_count": 35,
   "metadata": {},
   "outputs": [
    {
     "name": "stdout",
     "output_type": "stream",
     "text": [
      "[12, 17, 26, 35, 20]\n"
     ]
    }
   ],
   "source": [
    "#  FAZENDO UMA ALTERACAO NA LISTA\n",
    "l[0] = 12\n",
    "print (l) # exibindo o resultado\n",
    "\n",
    "\n",
    "'''Observe que a lista foi alterada'''"
   ]
  },
  {
   "cell_type": "markdown",
   "metadata": {},
   "source": [
    "# Operadores Aritméticos"
   ]
  },
  {
   "cell_type": "code",
   "execution_count": 36,
   "metadata": {},
   "outputs": [
    {
     "name": "stdout",
     "output_type": "stream",
     "text": [
      "19\n"
     ]
    }
   ],
   "source": [
    "# ADIÇÃO\n",
    "\n",
    "A = 14 # objeto\n",
    "B = 5 # objeto\n",
    "C = A + B # atribuindo uma adicao aos objetos\n",
    "print (C) # exibindo o resultado\n"
   ]
  },
  {
   "cell_type": "code",
   "execution_count": 37,
   "metadata": {},
   "outputs": [
    {
     "name": "stdout",
     "output_type": "stream",
     "text": [
      "9\n"
     ]
    }
   ],
   "source": [
    "# SUBTRACAO\n",
    "\n",
    "C = A - B # atribuindo uma subtração aos objetos    \n",
    "print (C)"
   ]
  },
  {
   "cell_type": "code",
   "execution_count": 38,
   "metadata": {},
   "outputs": [
    {
     "name": "stdout",
     "output_type": "stream",
     "text": [
      "70\n"
     ]
    }
   ],
   "source": [
    "# MUlTIPICACAO\n",
    "\n",
    "C = A * B # atribuindo uma mutiplicação aos objetos    \n",
    "print (C)"
   ]
  },
  {
   "cell_type": "code",
   "execution_count": 39,
   "metadata": {},
   "outputs": [
    {
     "name": "stdout",
     "output_type": "stream",
     "text": [
      "2.8\n"
     ]
    }
   ],
   "source": [
    "# DIVISAO\n",
    "\n",
    "C = A / B # atribuindo uma divisão aos objetos    \n",
    "print (C)"
   ]
  },
  {
   "cell_type": "code",
   "execution_count": 40,
   "metadata": {},
   "outputs": [
    {
     "name": "stdout",
     "output_type": "stream",
     "text": [
      "2\n"
     ]
    }
   ],
   "source": [
    "# DIVISAO INTEIRA\n",
    "\n",
    "C = A // B # atribuindo uma divisão inteira aos objetos    \n",
    "print (C)\n",
    "\n",
    "# Na divisão inteira a parte depois da virgula é ignorada   "
   ]
  },
  {
   "cell_type": "code",
   "execution_count": 43,
   "metadata": {},
   "outputs": [
    {
     "name": "stdout",
     "output_type": "stream",
     "text": [
      "-14\n"
     ]
    }
   ],
   "source": [
    "# NEGATIVANDO\n",
    "\n",
    "C = -A # atribuindo um negativo aos objetos    \n",
    "print (C)"
   ]
  },
  {
   "cell_type": "code",
   "execution_count": 44,
   "metadata": {},
   "outputs": [
    {
     "name": "stdout",
     "output_type": "stream",
     "text": [
      "14\n"
     ]
    }
   ],
   "source": [
    "C = -C # atribuindo um negativo aos objetos\n",
    "print (C) # exibindo o resultado\n",
    "\n",
    "'''Atribui um valor negativo ao objeto, que ja era negativo ele volta como positivo'''"
   ]
  },
  {
   "cell_type": "code",
   "execution_count": 45,
   "metadata": {},
   "outputs": [
    {
     "name": "stdout",
     "output_type": "stream",
     "text": [
      "537824\n"
     ]
    }
   ],
   "source": [
    "# Exponenciacao\n",
    "\n",
    "C = A ** B # atribuindo uma divisão aos objetos    \n",
    "print (C)"
   ]
  },
  {
   "cell_type": "code",
   "execution_count": 50,
   "metadata": {},
   "outputs": [
    {
     "name": "stdout",
     "output_type": "stream",
     "text": [
      "9\n"
     ]
    }
   ],
   "source": [
    "e = 3 ** 2\n",
    "print (e)\n",
    "\n",
    "\n",
    "''' 2 Asterisco indica que o valor e elevado ao quadrado'''"
   ]
  },
  {
   "cell_type": "code",
   "execution_count": 52,
   "metadata": {},
   "outputs": [
    {
     "name": "stdout",
     "output_type": "stream",
     "text": [
      "O resultado é  45\n"
     ]
    }
   ],
   "source": [
    "''' Realizando varias operações na mesma formula'''\n",
    "\n",
    "a = 10\n",
    "b = 25\n",
    "c = 7\n",
    "resultado = 2 * a + b\n",
    "print (\"O resultado é \", resultado)\n",
    "\n",
    "\n"
   ]
  },
  {
   "cell_type": "code",
   "execution_count": 53,
   "metadata": {},
   "outputs": [
    {
     "name": "stdout",
     "output_type": "stream",
     "text": [
      "O resultado é  70\n"
     ]
    }
   ],
   "source": [
    "a = 10\n",
    "b = 25\n",
    "c = 7\n",
    "resultado = 2 * (a + b)\n",
    "print (\"O resultado é \", resultado)\n",
    "\n",
    "\n",
    "'''Observe que foi feita uma operação de adição e uma de multiplicação\n",
    "\n",
    "seguindo regras algebra, foi feita primeiro o que esta entre\n",
    "()'''\n"
   ]
  },
  {
   "cell_type": "markdown",
   "metadata": {},
   "source": [
    "# Comando de Atribuição Incremental"
   ]
  },
  {
   "cell_type": "code",
   "execution_count": 69,
   "metadata": {},
   "outputs": [
    {
     "name": "stdout",
     "output_type": "stream",
     "text": [
      "O objeto agora é  11\n"
     ]
    }
   ],
   "source": [
    "objeto1 = 10\n",
    "\n",
    "objeto1 = objeto1 + 1 # incrementando o objeto\n",
    "print (\"O objeto agora é \",objeto1)\n"
   ]
  },
  {
   "cell_type": "markdown",
   "metadata": {},
   "source": [
    "# Funções Matemáticas"
   ]
  },
  {
   "cell_type": "code",
   "execution_count": 70,
   "metadata": {},
   "outputs": [],
   "source": [
    "''' Importando bibliotecas'''\n",
    "import math as mt # importando biblioteca math"
   ]
  },
  {
   "cell_type": "code",
   "execution_count": 81,
   "metadata": {},
   "outputs": [
    {
     "name": "stdout",
     "output_type": "stream",
     "text": [
      "A raiz quadrada de 49 é  7.0\n"
     ]
    },
    {
     "data": {
      "text/plain": [
       "'A biblioteca math possui uma função sqrt que calcula a raiz quadrada '"
      ]
     },
     "execution_count": 81,
     "metadata": {},
     "output_type": "execute_result"
    }
   ],
   "source": [
    "x = 49\n",
    "resultado = mt.sqrt(x)\n",
    "print ('A raiz quadrada de 49 é ', resultado)\n",
    "\n",
    "\n",
    "\n",
    "'''A biblioteca math possui uma função sqrt que calcula a raiz quadrada '''"
   ]
  },
  {
   "cell_type": "code",
   "execution_count": 80,
   "metadata": {},
   "outputs": [
    {
     "name": "stdout",
     "output_type": "stream",
     "text": [
      "A raiz quadrada de 49 é  7\n"
     ]
    }
   ],
   "source": [
    "# Arendo o valor de 49\n",
    "x = 49\n",
    "resultado = mt.sqrt(x)\n",
    "print (\"A raiz quadrada de 49 é \" , round (resultado))\n",
    "\n",
    "\n",
    "''' Round arredonda o valor para o proximo inteiro'''\n"
   ]
  },
  {
   "cell_type": "code",
   "execution_count": 75,
   "metadata": {},
   "outputs": [
    {
     "name": "stdout",
     "output_type": "stream",
     "text": [
      "A raiz quadrada de 81 é  9.0\n"
     ]
    }
   ],
   "source": [
    "mt.sqrt(81) # raiz quadrada de 81\n",
    "print ('A raiz quadrada de 81 é ',  mt.sqrt(81))"
   ]
  },
  {
   "cell_type": "code",
   "execution_count": 77,
   "metadata": {},
   "outputs": [
    {
     "data": {
      "text/plain": [
       "3.141592653589793"
      ]
     },
     "execution_count": 77,
     "metadata": {},
     "output_type": "execute_result"
    }
   ],
   "source": [
    "# Constante\n",
    "\n",
    "mt.pi\n",
    "\n",
    "'''A biblioteca math possui uma função pi que calcula o valor de pi'''"
   ]
  }
 ],
 "metadata": {
  "kernelspec": {
   "display_name": "Python 3",
   "language": "python",
   "name": "python3"
  },
  "language_info": {
   "codemirror_mode": {
    "name": "ipython",
    "version": 3
   },
   "file_extension": ".py",
   "mimetype": "text/x-python",
   "name": "python",
   "nbconvert_exporter": "python",
   "pygments_lexer": "ipython3",
   "version": "3.12.4"
  }
 },
 "nbformat": 4,
 "nbformat_minor": 2
}
