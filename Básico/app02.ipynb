{
 "cells": [
  {
   "cell_type": "markdown",
   "metadata": {},
   "source": [
    "# Função Print parte 1"
   ]
  },
  {
   "cell_type": "code",
   "execution_count": 1,
   "metadata": {},
   "outputs": [
    {
     "name": "stdout",
     "output_type": "stream",
     "text": [
      "Esta é uma mensagem exemplo\n"
     ]
    }
   ],
   "source": [
    "print (\"Esta é uma mensagem exemplo\") # imprime uma mensagem"
   ]
  },
  {
   "cell_type": "code",
   "execution_count": 2,
   "metadata": {},
   "outputs": [
    {
     "name": "stdout",
     "output_type": "stream",
     "text": [
      "26 58\n"
     ]
    }
   ],
   "source": [
    "x  = 26\n",
    "y = 58\n",
    "\n",
    "print(x,y)\n",
    "\n",
    "\n",
    "'''O print existe para estabelecer uma comunicação entre o programa \n",
    "e o usuario'''"
   ]
  },
  {
   "cell_type": "code",
   "execution_count": 3,
   "metadata": {},
   "outputs": [
    {
     "name": "stdout",
     "output_type": "stream",
     "text": [
      "Valor de  x =  26 e valor de y =  58\n"
     ]
    }
   ],
   "source": [
    "print(\"Valor de  x = \", x, \"e valor de y = \", y)"
   ]
  },
  {
   "cell_type": "code",
   "execution_count": 4,
   "metadata": {},
   "outputs": [
    {
     "name": "stdout",
     "output_type": "stream",
     "text": [
      "Valores : x = 26 e y = 58\n"
     ]
    }
   ],
   "source": [
    "print (\"Valores : x = {0} e y = {1}\".format(x,y))\n",
    "\n",
    "\n",
    "\n",
    "'''Esta funcionando assim: O valor de (x) está sendo colocado no marcadpor {0} e o\n",
    " valor de (y) está sendo colocado no marcador {1}'''"
   ]
  },
  {
   "cell_type": "markdown",
   "metadata": {},
   "source": [
    "# Função Print parte 2"
   ]
  },
  {
   "cell_type": "code",
   "execution_count": 5,
   "metadata": {},
   "outputs": [
    {
     "name": "stdout",
     "output_type": "stream",
     "text": [
      "12 19\n"
     ]
    }
   ],
   "source": [
    "a = 12 # variável\n",
    "b = 19 # variável\n",
    "print (a,b) # imprimindo os objetos"
   ]
  },
  {
   "cell_type": "code",
   "execution_count": 6,
   "metadata": {},
   "outputs": [
    {
     "name": "stdout",
     "output_type": "stream",
     "text": [
      "12-19\n"
     ]
    }
   ],
   "source": [
    "# Usando um separador\n",
    "print (a,b, sep= '-')   # (sep=) está atribuindo um separador\n",
    "\n",
    "\n",
    "'''No lugar do separador podemos colocar o que achar coveniente'''"
   ]
  },
  {
   "cell_type": "code",
   "execution_count": 12,
   "metadata": {},
   "outputs": [
    {
     "name": "stdout",
     "output_type": "stream",
     "text": [
      "um\n",
      "dois\n",
      "tres\n"
     ]
    }
   ],
   "source": [
    "# Usando parametro (END)\n",
    "\n",
    "print (\"um\\ndois\\ntres\")  # (\\n) representa uma quebra de linha"
   ]
  },
  {
   "cell_type": "code",
   "execution_count": 15,
   "metadata": {},
   "outputs": [
    {
     "name": "stdout",
     "output_type": "stream",
     "text": [
      "12\n",
      "26"
     ]
    },
    {
     "data": {
      "text/plain": [
       "'(end) esta atribuindo um fim de linha'"
      ]
     },
     "execution_count": 15,
     "metadata": {},
     "output_type": "execute_result"
    }
   ],
   "source": [
    "# FIM DE LINHA\n",
    "\n",
    "num1= 12\n",
    "num2 = 26\n",
    "print (num1)\n",
    "print (num2, end = '')\n",
    "\n",
    "'''(end) esta atribuindo um fim de linha'''\n"
   ]
  },
  {
   "cell_type": "markdown",
   "metadata": {},
   "source": [
    "# F - STRINGS\n"
   ]
  },
  {
   "cell_type": "code",
   "execution_count": 17,
   "metadata": {},
   "outputs": [
    {
     "name": "stdout",
     "output_type": "stream",
     "text": [
      "Valores: A é 14 e B é 32\n"
     ]
    }
   ],
   "source": [
    "A = 14\n",
    "B = 32\n",
    "\n",
    "s1 = \"Valores: A é {} e B é {}\".format(A,B)\n",
    "\n",
    "# Usando format "
   ]
  },
  {
   "cell_type": "code",
   "execution_count": 19,
   "metadata": {},
   "outputs": [
    {
     "name": "stdout",
     "output_type": "stream",
     "text": [
      "Valores: A é 14 e B é 32\n"
     ]
    }
   ],
   "source": [
    "\n",
    "\n",
    "\n",
    "s2 = F\"Valores: A é {A} e B é {B}\"\n",
    "\n",
    "\n",
    "print(s2)\n",
    "\n",
    "\n",
    "# Usando F string "
   ]
  },
  {
   "cell_type": "markdown",
   "metadata": {},
   "source": [
    "# Função Input parte 1\n",
    "\n",
    "A função input() no Python é usada para capturar dados do usuário enquanto o programa está rodando. É como se o programa fizesse uma pergunta, e você, a pessoa que está usando o programa, precisa dar uma resposta."
   ]
  },
  {
   "cell_type": "code",
   "execution_count": 20,
   "metadata": {},
   "outputs": [],
   "source": [
    "nome = input(\"Qual é seu nome: \")\n",
    "\n",
    "\n",
    "#Nesse exemplo, o programa vai mostrar a pergunta \"Qual é o seu nome?\" no terminal.\n",
    "\n",
    "#Quando o programa chega nessa linha, ele fica esperando você digitar alguma coisa.\n",
    "\n",
    "#O que você digitar será armazenado na variável nome. Ou seja, se você digitar \"Patrícia Oliveira\", a variável nome vai guardar o valor \"Patrícia\"."
   ]
  },
  {
   "cell_type": "code",
   "execution_count": 21,
   "metadata": {},
   "outputs": [
    {
     "name": "stdout",
     "output_type": "stream",
     "text": [
      "Patricia Oliveira\n"
     ]
    }
   ],
   "source": [
    "print (nome)"
   ]
  },
  {
   "cell_type": "markdown",
   "metadata": {},
   "source": [
    "# Função Print parte 2"
   ]
  },
  {
   "cell_type": "code",
   "execution_count": 23,
   "metadata": {},
   "outputs": [
    {
     "name": "stdout",
     "output_type": "stream",
     "text": [
      "37\n"
     ]
    }
   ],
   "source": [
    "N = int(input(\"Digite um número: \")) # (int) converte para inteiro\n",
    "\n",
    "print(N)"
   ]
  },
  {
   "cell_type": "code",
   "execution_count": 32,
   "metadata": {},
   "outputs": [
    {
     "name": "stdout",
     "output_type": "stream",
     "text": [
      "31.47\n"
     ]
    },
    {
     "data": {
      "text/plain": [
       "'input(\"Digite um numero real : \"): Mostra a mensagem \"Digite um numero real :\" e espera o usuário digitar um valor.\\nfloat(): Converte o que foi digitado de texto para número decimal (número real). Se você digitar, por exemplo, \"31.47\"\\no float() transforma isso no número 31.47.\\nO valor convertido (por exemplo, 31.47) é então armazenado na variável F.'"
      ]
     },
     "execution_count": 32,
     "metadata": {},
     "output_type": "execute_result"
    }
   ],
   "source": [
    "F = float(input(\"Digite um numero real : \"))\n",
    "print(F)\n",
    "\n",
    "'''input(\"Digite um numero real : \"): Mostra a mensagem \"Digite um numero real :\" e espera o usuário digitar um valor.\n",
    "float(): Converte o que foi digitado de texto para número decimal (número real). Se você digitar, por exemplo, \"31.47\"\n",
    "o float() transforma isso no número 31.47.\n",
    "O valor convertido (por exemplo, 31.47) é então armazenado na variável F.'''\n"
   ]
  },
  {
   "cell_type": "code",
   "execution_count": 33,
   "metadata": {},
   "outputs": [
    {
     "name": "stdout",
     "output_type": "stream",
     "text": [
      "68.47\n"
     ]
    }
   ],
   "source": [
    "R = N + F\n",
    "\n",
    "print(R)"
   ]
  },
  {
   "cell_type": "markdown",
   "metadata": {},
   "source": [
    "O programa começa pedindo que você digite um número inteiro. A função input() exibe a mensagem \"Digite um número: \" e espera você digitar algo. Quando você digita 37, o programa pega esse valor, que originalmente é um texto, e usa a função int() para convertê-lo para um número inteiro. Esse número é armazenado na variável N.\n",
    "\n",
    "O programa exibe o valor de N usando print(N). Nesse caso, o valor 37 é mostrado na tela.\n",
    "\n",
    "Depois, o programa pede que você digite um número real (um número com casas decimais). A função input() exibe a mensagem \"Digite um numero real :\" e espera você digitar algo. Quando você digita 31.47, o programa pega esse valor e usa a função float() para convertê-lo de texto para um número real (decimal). Esse número é armazenado na variável F.\n",
    "\n",
    "O programa então exibe o valor de F usando print(F). O valor 31.47 é mostrado na tela.\n",
    "\n",
    "Em seguida, o programa faz uma soma entre o número inteiro armazenado em N (que é 37) e o número real armazenado em F (que é 31.47). O resultado dessa soma, 68.47, é armazenado na variável R.\n",
    "\n",
    "Finalmente, o programa exibe o valor de R, que é 68.47, usando print(R)."
   ]
  }
 ],
 "metadata": {
  "kernelspec": {
   "display_name": "Python 3",
   "language": "python",
   "name": "python3"
  },
  "language_info": {
   "codemirror_mode": {
    "name": "ipython",
    "version": 3
   },
   "file_extension": ".py",
   "mimetype": "text/x-python",
   "name": "python",
   "nbconvert_exporter": "python",
   "pygments_lexer": "ipython3",
   "version": "3.12.4"
  }
 },
 "nbformat": 4,
 "nbformat_minor": 2
}
