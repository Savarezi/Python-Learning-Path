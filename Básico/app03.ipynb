{
 "cells": [
  {
   "cell_type": "markdown",
   "metadata": {},
   "source": [
    "# Comandos Condicional - Motivação"
   ]
  },
  {
   "cell_type": "code",
   "execution_count": 1,
   "metadata": {},
   "outputs": [
    {
     "ename": "ZeroDivisionError",
     "evalue": "division by zero",
     "output_type": "error",
     "traceback": [
      "\u001b[1;31m---------------------------------------------------------------------------\u001b[0m",
      "\u001b[1;31mZeroDivisionError\u001b[0m                         Traceback (most recent call last)",
      "Cell \u001b[1;32mIn[1], line 3\u001b[0m\n\u001b[0;32m      1\u001b[0m a \u001b[38;5;241m=\u001b[39m \u001b[38;5;241m10\u001b[39m\n\u001b[0;32m      2\u001b[0m b \u001b[38;5;241m=\u001b[39m \u001b[38;5;241m0\u001b[39m\n\u001b[1;32m----> 3\u001b[0m r \u001b[38;5;241m=\u001b[39m \u001b[43ma\u001b[49m\u001b[38;5;241;43m/\u001b[39;49m\u001b[43mb\u001b[49m\n",
      "\u001b[1;31mZeroDivisionError\u001b[0m: division by zero"
     ]
    }
   ],
   "source": [
    "a = 10\n",
    "b = 0\n",
    "r = a/b\n",
    "\n",
    "# aqui acontece um erro de divisão por zero e o programa para"
   ]
  },
  {
   "cell_type": "code",
   "execution_count": 3,
   "metadata": {},
   "outputs": [
    {
     "name": "stdout",
     "output_type": "stream",
     "text": [
      "O resultado é  5.0\n"
     ]
    }
   ],
   "source": [
    "# Solucao\n",
    "# Coletando os dados        \n",
    "     \n",
    "valor1 = int(input(\"digite o primeiro valor: \"))\n",
    "valor2 = int(input(\"digite o segundo valor: \"))\n",
    "if valor2 == 0:\n",
    "    print (\"Náo é possivel dividir por zero\")\n",
    "else :\n",
    "    resultado = valor1 / valor2\n",
    "    print(\"O resultado é \", resultado)\n",
    "\n"
   ]
  },
  {
   "cell_type": "markdown",
   "metadata": {},
   "source": [
    "# Condição Simples"
   ]
  },
  {
   "cell_type": "code",
   "execution_count": 5,
   "metadata": {},
   "outputs": [
    {
     "name": "stdout",
     "output_type": "stream",
     "text": [
      "B maior que A\n"
     ]
    }
   ],
   "source": [
    "A = 10\n",
    "B = 50\n",
    "\n",
    "if A > B:\n",
    "    print(\"A maior que B\")\n",
    "else:\n",
    "    print(\"B maior que A\")  "
   ]
  },
  {
   "cell_type": "markdown",
   "metadata": {},
   "source": [
    "# Condição Composta\n",
    "# Operadores Logicos: NOT/ END/ OR"
   ]
  },
  {
   "cell_type": "markdown",
   "metadata": {},
   "source": [
    "# not"
   ]
  },
  {
   "cell_type": "code",
   "execution_count": 6,
   "metadata": {},
   "outputs": [
    {
     "data": {
      "text/plain": [
       "True"
      ]
     },
     "execution_count": 6,
     "metadata": {},
     "output_type": "execute_result"
    }
   ],
   "source": [
    "A = 0\n",
    "not A > 0"
   ]
  },
  {
   "cell_type": "markdown",
   "metadata": {},
   "source": [
    "O operador not em Python é um operador lógico que inverte o valor de uma expressão booleana. Ele é usado para retornar o oposto da condição avaliada.\n",
    "\n",
    "Se uma condição for True, o not a transforma em False.\n",
    "Se uma condição for False, o not a transforma em True."
   ]
  },
  {
   "cell_type": "markdown",
   "metadata": {},
   "source": [
    "# and"
   ]
  },
  {
   "cell_type": "code",
   "execution_count": 8,
   "metadata": {},
   "outputs": [
    {
     "data": {
      "text/plain": [
       "False"
      ]
     },
     "execution_count": 8,
     "metadata": {},
     "output_type": "execute_result"
    }
   ],
   "source": [
    "B = 1 \n",
    "A < 0 and B < 0 \n"
   ]
  },
  {
   "cell_type": "code",
   "execution_count": 9,
   "metadata": {},
   "outputs": [
    {
     "data": {
      "text/plain": [
       "False"
      ]
     },
     "execution_count": 9,
     "metadata": {},
     "output_type": "execute_result"
    }
   ],
   "source": [
    "A < 0 and B < 0"
   ]
  },
  {
   "cell_type": "code",
   "execution_count": 10,
   "metadata": {},
   "outputs": [
    {
     "data": {
      "text/plain": [
       "False"
      ]
     },
     "execution_count": 10,
     "metadata": {},
     "output_type": "execute_result"
    }
   ],
   "source": [
    "A == 0 and B < 0"
   ]
  },
  {
   "cell_type": "markdown",
   "metadata": {},
   "source": [
    "O operador and em Python é um operador lógico usado para combinar duas ou mais condições em uma expressão booleana. Ele retorna True se todas as condições forem verdadeiras, e False se pelo menos uma condição for falsa.\n",
    "\n",
    "Regras importantes sobre and\n",
    "\n",
    "1- Se a primeira condição for False, o and não verifica as outras condições, pois o resultado já será False.\n",
    "\n",
    "2- Pode ser usado em expressões mais complexas, combinando várias condições.\n",
    "\n"
   ]
  },
  {
   "cell_type": "markdown",
   "metadata": {},
   "source": [
    "# or"
   ]
  },
  {
   "cell_type": "code",
   "execution_count": 11,
   "metadata": {},
   "outputs": [
    {
     "data": {
      "text/plain": [
       "False"
      ]
     },
     "execution_count": 11,
     "metadata": {},
     "output_type": "execute_result"
    }
   ],
   "source": [
    "# A = 0\n",
    "# B = 1\n",
    "\n",
    "\n",
    "A < 0 or B < 0"
   ]
  },
  {
   "cell_type": "code",
   "execution_count": 12,
   "metadata": {},
   "outputs": [
    {
     "data": {
      "text/plain": [
       "True"
      ]
     },
     "execution_count": 12,
     "metadata": {},
     "output_type": "execute_result"
    }
   ],
   "source": [
    "A < 0 or B == 1"
   ]
  },
  {
   "cell_type": "code",
   "execution_count": 13,
   "metadata": {},
   "outputs": [
    {
     "data": {
      "text/plain": [
       "True"
      ]
     },
     "execution_count": 13,
     "metadata": {},
     "output_type": "execute_result"
    }
   ],
   "source": [
    "A  == 0 or B == 1"
   ]
  },
  {
   "cell_type": "markdown",
   "metadata": {},
   "source": [
    "O operador or em Python é um operador lógico que retorna True se pelo menos uma das condições for verdadeira. Ele é usado para verificar se uma entre várias condições é satisfeita.\n",
    "\n",
    "Se pelo menos uma condição for True, o resultado será True.\n",
    "Se todas as condições forem False, o resultado será False.\n",
    "\n",
    "\n",
    "\n",
    "Regras importantes sobre or\n",
    "Se a primeira condição for True, o or usa \"curto-circuito\" (short-circuiting), o que significa que ele não verifica a segunda condição, pois o resultado já será True.\n",
    "Pode ser usado para combinar várias condições."
   ]
  },
  {
   "cell_type": "markdown",
   "metadata": {},
   "source": [
    "# Condiçoes Mista"
   ]
  },
  {
   "cell_type": "code",
   "execution_count": 14,
   "metadata": {},
   "outputs": [
    {
     "data": {
      "text/plain": [
       "True"
      ]
     },
     "execution_count": 14,
     "metadata": {},
     "output_type": "execute_result"
    }
   ],
   "source": [
    "A = 15\n",
    "B = 9\n",
    "C = 9 \n",
    "\n",
    "B == C or A < B and A < C\n",
    "\n"
   ]
  },
  {
   "cell_type": "markdown",
   "metadata": {},
   "source": [
    "# Comando condicional\n",
    "Formula Completa"
   ]
  },
  {
   "cell_type": "code",
   "execution_count": 15,
   "metadata": {},
   "outputs": [
    {
     "name": "stdout",
     "output_type": "stream",
     "text": [
      "positivo\n"
     ]
    }
   ],
   "source": [
    "numero1 = 10\n",
    "if numero1 == 0:\n",
    "    print(\"zero\")\n",
    "elif numero1 > 0:\n",
    "    print (\"positivo\")\n",
    "else:\n",
    "    print(\"negativo\")"
   ]
  },
  {
   "cell_type": "code",
   "execution_count": 18,
   "metadata": {},
   "outputs": [
    {
     "name": "stdout",
     "output_type": "stream",
     "text": [
      "negativo\n"
     ]
    }
   ],
   "source": [
    "A = -38\n",
    "if A == 0:\n",
    "    print(\"zero\")\n",
    "elif A > 0:\n",
    "    print (\"positivo\")\n",
    "else:\n",
    "    print(\"negativo\")\n"
   ]
  },
  {
   "cell_type": "code",
   "execution_count": 21,
   "metadata": {},
   "outputs": [
    {
     "name": "stdout",
     "output_type": "stream",
     "text": [
      "Com ph = 6.0, a solução eh Levemente Acido\n"
     ]
    }
   ],
   "source": [
    "Ph = float(input(\"digite o pH: \"))\n",
    "if Ph < 6.0:\n",
    "    r = (\"Acido\")\n",
    "elif Ph < 7.0:\n",
    "    r = (\"Levemente Acido\")\n",
    "elif Ph == 7.0:\n",
    "    r =  (\"Neutra\")\n",
    "elif Ph < 8.0:\n",
    "    r = (\"Levemente Alcalina\")\n",
    "else:\n",
    "    r = (\"Alcalino\")\n",
    "\n",
    "\n",
    "print (f\"Com ph = {Ph}, a solução eh {r}\" )"
   ]
  },
  {
   "cell_type": "code",
   "execution_count": 4,
   "metadata": {},
   "outputs": [
    {
     "name": "stdout",
     "output_type": "stream",
     "text": [
      "O tipo de investimento é Renda fixa\n"
     ]
    }
   ],
   "source": [
    "risco = str(input(\"Digite Bx ou AL para o grau de risco: \"))\n",
    "valor = float(input(\"Digite o valor : \"))\n",
    "if risco != \"Bx\" and risco != \"AL\":\n",
    "    print(f\"{risco} é invalido\")\n",
    "else:\n",
    "    if risco == \"Bx\":\n",
    "        if valor < 1000.0:\n",
    "            tipo = \"Poupança\"\n",
    "        else:\n",
    "            tipo = \"Renda fixa\"\n",
    "    else:\n",
    "        if valor < 1000.0:\n",
    "            tipo = \"Biticoins\"\n",
    "        else:\n",
    "            tipo = \"Ações\"\n",
    "\n",
    "    print(f\"O tipo de investimento é {tipo}\")\n",
    "    "
   ]
  },
  {
   "cell_type": "code",
   "execution_count": 5,
   "metadata": {},
   "outputs": [
    {
     "name": "stdout",
     "output_type": "stream",
     "text": [
      "Grau de risco inválido. Digite 'Bx' ou 'AL'.\n",
      "Grau de risco inválido. Digite 'Bx' ou 'AL'.\n",
      "O tipo de investimento é Renda fixa\n"
     ]
    }
   ],
   "source": [
    "# O MESMO CODIGO ACIMA POREM MODIFICADO\n",
    "\n",
    "# Solicita o grau de risco e valida a entrada\n",
    "while True:\n",
    "    risco = input(\"Digite Bx ou AL para o grau de risco: \").strip()\n",
    "    if risco in [\"Bx\", \"AL\"]:\n",
    "        break\n",
    "    else:\n",
    "        print(\"Grau de risco inválido. Digite 'Bx' ou 'AL'.\")\n",
    "\n",
    "# Solicita o valor do investimento\n",
    "valor = float(input(\"Digite o valor: \"))\n",
    "\n",
    "# Determina o tipo de investimento com base no grau de risco e no valor\n",
    "if risco == \"Bx\":\n",
    "    tipo = \"Poupança\" if valor < 1000.0 else \"Renda fixa\"\n",
    "else:  # risco == \"AL\"\n",
    "    tipo = \"Biticoins\" if valor < 1000.0 else \"Ações\"\n",
    "\n",
    "print(f\"O tipo de investimento é {tipo}\")\n"
   ]
  },
  {
   "cell_type": "markdown",
   "metadata": {},
   "source": [
    "# Comando Condicional - aplicaçao"
   ]
  },
  {
   "cell_type": "code",
   "execution_count": 7,
   "metadata": {},
   "outputs": [
    {
     "name": "stdout",
     "output_type": "stream",
     "text": [
      "189 é impar\n",
      "Fim do Programa\n"
     ]
    }
   ],
   "source": [
    "\"\"\"Exercicios de Python\"\"\"\n",
    "\n",
    "\"\"\"Escreva um programa que leia um numero inteiro e mostre na tela\n",
    "se ele é par ou impar\n",
    "Lembrando que para saber a prioridade de um inteiro pe preciso\n",
    "calcular o resto de sua divisão por 2,. Se o resto for 0 o numero\n",
    "é par se o resto for 1 o numero é impar\"\"\"\n",
    "\n",
    "x = int(input(\"Digite um numero inteiro: \"))\n",
    "resto = x % 2\n",
    "if resto == 0:\n",
    "    print(f\"{x} é par\")\n",
    "else:\n",
    "    print(f\"{x} é impar\")\n",
    "\n",
    "\n",
    "\n",
    "print (\"Fim do Programa\")\n",
    "\n",
    "\n"
   ]
  },
  {
   "cell_type": "code",
   "execution_count": null,
   "metadata": {},
   "outputs": [
    {
     "name": "stdout",
     "output_type": "stream",
     "text": [
      "O menor número é 23\n",
      "Fim do Programa\n"
     ]
    }
   ],
   "source": [
    "\"\"\"Escreva um programa que leia dois numero inteiro e mostre na tela\n",
    "se ambos forem iguais,mostre qualquer um deles\"\"\"\n",
    "\n",
    "val1 = int(input('Digite o valor de b: '))\n",
    "val2 = int(input(\"Digite o valor de c\"))\n",
    "if val1 <= val2:\n",
    "    print (f\"O menor número é {val1}\")\n",
    "else:\n",
    "    print(f\"O menor número é {val2}\")\n",
    "\n",
    "print(\"Fim do Programa\")"
   ]
  },
  {
   "cell_type": "code",
   "execution_count": null,
   "metadata": {},
   "outputs": [
    {
     "name": "stdout",
     "output_type": "stream",
     "text": [
      "O lutador kaio pesa 67.000 kg e seu categoria é Leve\n",
      "Fim do Programa\n"
     ]
    }
   ],
   "source": [
    "\"\"\"Escreva um programa para exibir na tela o nome de um lutador\n",
    "o programa deve ler uma string para o nome e um numero real\n",
    "para o peso. Conforme o peso ocorrera o enquadramento da categoria\n",
    "\"\"\"\n",
    "\n",
    "nome = input('Digite o nome : ')\n",
    "peso = float(input(\"Digite o peso : \"))\n",
    "if peso < 52:\n",
    "    categoria = ''\n",
    "elif peso < 65 :\n",
    "    categoria = \"Pena\"\n",
    "elif peso < 72 :\n",
    "    categoria = \"Leve\"\n",
    "elif peso < 79 :\n",
    "    categoria = \"Ligeiro\"\n",
    "elif peso < 86 :\n",
    "    categoria = \"Meio- Médio\"\n",
    "elif peso < 90 :\n",
    "    categoria = \"Médio\"\n",
    "elif peso < 100 :\n",
    "    categoria = \"Meio-Pesado\"\n",
    "else:\n",
    "    categoria = \"Pesado\"\n",
    "\n",
    "\n",
    "msg = \"O lutador {} pesa {:.3f} kg e sua categoria é {}\"\n",
    "if categoria != '':\n",
    "    print(msg.format(nome, peso, categoria))    \n",
    "else:\n",
    "    print(f\"Peso Inválido: {peso}\")\n",
    "print(\"Fim do Programa\")\n",
    "\n",
    "\n"
   ]
  }
 ],
 "metadata": {
  "kernelspec": {
   "display_name": "Python 3",
   "language": "python",
   "name": "python3"
  },
  "language_info": {
   "codemirror_mode": {
    "name": "ipython",
    "version": 3
   },
   "file_extension": ".py",
   "mimetype": "text/x-python",
   "name": "python",
   "nbconvert_exporter": "python",
   "pygments_lexer": "ipython3",
   "version": "3.12.4"
  }
 },
 "nbformat": 4,
 "nbformat_minor": 2
}
